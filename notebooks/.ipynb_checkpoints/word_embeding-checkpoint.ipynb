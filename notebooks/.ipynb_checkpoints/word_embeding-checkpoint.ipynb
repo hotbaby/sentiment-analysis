{
 "cells": [
  {
   "cell_type": "markdown",
   "metadata": {},
   "source": [
    "# Word embedding"
   ]
  },
  {
   "cell_type": "code",
   "execution_count": 2,
   "metadata": {},
   "outputs": [],
   "source": [
    "import warnings\n",
    "warnings.filterwarnings('ignore')"
   ]
  },
  {
   "cell_type": "code",
   "execution_count": 3,
   "metadata": {},
   "outputs": [],
   "source": [
    "import sys\n",
    "sys.path.insert(0, '..')"
   ]
  },
  {
   "cell_type": "code",
   "execution_count": 4,
   "metadata": {},
   "outputs": [
    {
     "name": "stdout",
     "output_type": "stream",
     "text": [
      "WARNING:tensorflow:\n",
      "The TensorFlow contrib module will not be included in TensorFlow 2.0.\n",
      "For more information, please see:\n",
      "  * https://github.com/tensorflow/community/blob/master/rfcs/20180907-contrib-sunset.md\n",
      "  * https://github.com/tensorflow/addons\n",
      "  * https://github.com/tensorflow/io (for I/O related ops)\n",
      "If you depend on functionality not listed there, please file an issue.\n",
      "\n"
     ]
    }
   ],
   "source": [
    "import os\n",
    "import json\n",
    "import jieba\n",
    "import gensim\n",
    "import collections\n",
    "import numpy as np\n",
    "import pandas as pd\n",
    "import matplotlib.pyplot as plt\n",
    "from wordcloud import WordCloud\n",
    "import tensorflow as tf\n",
    "import tensorflow_datasets as tfds"
   ]
  },
  {
   "cell_type": "code",
   "execution_count": 5,
   "metadata": {},
   "outputs": [],
   "source": [
    "%matplotlib inline"
   ]
  },
  {
   "cell_type": "code",
   "execution_count": 6,
   "metadata": {},
   "outputs": [],
   "source": [
    "tf.enable_eager_execution()"
   ]
  },
  {
   "cell_type": "markdown",
   "metadata": {},
   "source": [
    "## Load dataset"
   ]
  },
  {
   "cell_type": "code",
   "execution_count": 8,
   "metadata": {},
   "outputs": [],
   "source": [
    "from senti_analysis.data import load_data_set"
   ]
  },
  {
   "cell_type": "code",
   "execution_count": 9,
   "metadata": {},
   "outputs": [],
   "source": [
    "train_data_set, validation_data_set, test_data_set = load_data_set()"
   ]
  },
  {
   "cell_type": "code",
   "execution_count": 14,
   "metadata": {},
   "outputs": [
    {
     "name": "stdout",
     "output_type": "stream",
     "text": [
      "<class 'pandas.core.frame.DataFrame'>\n",
      "RangeIndex: 105000 entries, 0 to 104999\n",
      "Data columns (total 22 columns):\n",
      "id                                          105000 non-null int64\n",
      "content                                     105000 non-null object\n",
      "location_traffic_convenience                105000 non-null int64\n",
      "location_distance_from_business_district    105000 non-null int64\n",
      "location_easy_to_find                       105000 non-null int64\n",
      "service_wait_time                           105000 non-null int64\n",
      "service_waiters_attitude                    105000 non-null int64\n",
      "service_parking_convenience                 105000 non-null int64\n",
      "service_serving_speed                       105000 non-null int64\n",
      "price_level                                 105000 non-null int64\n",
      "price_cost_effective                        105000 non-null int64\n",
      "price_discount                              105000 non-null int64\n",
      "environment_decoration                      105000 non-null int64\n",
      "environment_noise                           105000 non-null int64\n",
      "environment_space                           105000 non-null int64\n",
      "environment_cleaness                        105000 non-null int64\n",
      "dish_portion                                105000 non-null int64\n",
      "dish_taste                                  105000 non-null int64\n",
      "dish_look                                   105000 non-null int64\n",
      "dish_recommendation                         105000 non-null int64\n",
      "others_overall_experience                   105000 non-null int64\n",
      "others_willing_to_consume_again             105000 non-null int64\n",
      "dtypes: int64(21), object(1)\n",
      "memory usage: 17.6+ MB\n"
     ]
    }
   ],
   "source": [
    "train_data_set.info()"
   ]
  },
  {
   "cell_type": "code",
   "execution_count": 17,
   "metadata": {},
   "outputs": [
    {
     "data": {
      "text/plain": [
       "(105000, 15000, 15000)"
      ]
     },
     "execution_count": 17,
     "metadata": {},
     "output_type": "execute_result"
    }
   ],
   "source": [
    "len(train_data_set), len(validation_data_set), len(test_data_set)"
   ]
  },
  {
   "cell_type": "code",
   "execution_count": 18,
   "metadata": {},
   "outputs": [],
   "source": [
    "content = train_data_set['content'] + validation_data_set['content'] + test_data_set['content']"
   ]
  },
  {
   "cell_type": "code",
   "execution_count": 35,
   "metadata": {},
   "outputs": [],
   "source": [
    "content = np.concatenate([np.array(train_data_set['content']), \n",
    "                          np.array(validation_data_set['content']),\n",
    "                          np.array(test_data_set['content'])])"
   ]
  },
  {
   "cell_type": "code",
   "execution_count": 36,
   "metadata": {},
   "outputs": [
    {
     "data": {
      "text/plain": [
       "135000"
      ]
     },
     "execution_count": 36,
     "metadata": {},
     "output_type": "execute_result"
    }
   ],
   "source": [
    "len(content)"
   ]
  },
  {
   "cell_type": "markdown",
   "metadata": {},
   "source": [
    "## Train word vector"
   ]
  },
  {
   "cell_type": "code",
   "execution_count": 37,
   "metadata": {},
   "outputs": [],
   "source": [
    "def cut(text):\n",
    "    return jieba.lcut(text)"
   ]
  },
  {
   "cell_type": "code",
   "execution_count": 39,
   "metadata": {},
   "outputs": [],
   "source": [
    "# cut('今天北京天气不错')"
   ]
  },
  {
   "cell_type": "code",
   "execution_count": 42,
   "metadata": {
    "collapsed": true
   },
   "outputs": [],
   "source": [
    "sentences = map(cut, content)"
   ]
  },
  {
   "cell_type": "code",
   "execution_count": 50,
   "metadata": {},
   "outputs": [],
   "source": [
    "model = gensim.models.Word2Vec(sentences, size=100, window=5, min_count=1, workers=4)"
   ]
  },
  {
   "cell_type": "code",
   "execution_count": 56,
   "metadata": {},
   "outputs": [],
   "source": [
    "model.save('w2v.model')"
   ]
  },
  {
   "cell_type": "code",
   "execution_count": 57,
   "metadata": {},
   "outputs": [],
   "source": [
    "model = gensim.models.Word2Vec.load('w2v.model')"
   ]
  },
  {
   "cell_type": "code",
   "execution_count": 58,
   "metadata": {},
   "outputs": [
    {
     "data": {
      "text/plain": [
       "array([-2.3488642e-03, -1.5344648e-03, -1.5566864e-03,  3.7902326e-04,\n",
       "       -2.6193100e-03, -1.4347362e-03,  3.6481237e-05,  4.6536615e-04,\n",
       "       -4.0649245e-03, -2.0662528e-03,  2.6442355e-03, -3.0504286e-03,\n",
       "       -4.7339215e-03,  4.0190141e-03, -1.9351526e-03,  1.7505509e-03,\n",
       "        3.6532586e-03, -3.3966466e-03,  2.2384415e-04,  4.7573023e-03,\n",
       "       -3.9277603e-03, -3.5877095e-03,  1.3816286e-03, -2.0394996e-03,\n",
       "       -4.2933300e-03,  7.0108863e-04, -4.1266875e-03,  1.2294045e-03,\n",
       "        1.6835389e-04, -8.0646662e-04,  2.2160515e-04,  1.2269986e-03,\n",
       "       -7.9008844e-04, -2.3935421e-03,  1.7712463e-03, -2.3664902e-03,\n",
       "       -1.6686361e-03,  3.2037019e-03,  3.3067637e-03,  4.0673264e-03,\n",
       "        2.8056928e-03, -1.0077041e-03, -1.0118972e-03, -2.7633724e-03,\n",
       "        2.7836757e-03, -2.5133409e-03,  1.7807141e-03,  1.3973416e-03,\n",
       "       -3.4294503e-03, -1.4809686e-03, -3.7603283e-03,  2.1080626e-03,\n",
       "       -3.9907265e-03, -2.5366067e-03,  4.0879007e-03, -3.8268329e-03,\n",
       "        2.0755562e-03,  4.2438582e-03, -2.3738586e-03,  3.2666924e-03,\n",
       "        3.9416878e-03, -3.6657718e-04,  1.6487690e-03, -3.2797442e-03,\n",
       "        3.7623893e-03, -3.7879618e-03,  4.2162375e-03, -3.7988853e-03,\n",
       "       -4.7015273e-03,  2.9933343e-03, -3.1793627e-03,  4.0258481e-03,\n",
       "       -3.6076999e-03,  4.1731508e-03,  1.1197485e-03, -1.1876086e-03,\n",
       "       -4.6827081e-03,  2.1523375e-03,  1.8154826e-03,  3.2394202e-03,\n",
       "       -4.1493508e-03, -1.9490896e-03, -3.9334549e-03,  3.8448239e-03,\n",
       "       -6.0994463e-04,  3.5556101e-03,  4.7022109e-03,  9.1000658e-04,\n",
       "       -3.9782477e-04,  3.9325384e-03,  3.8871935e-03, -2.9223610e-03,\n",
       "        4.1583204e-03, -5.7882449e-04, -3.1743732e-03,  4.3982128e-03,\n",
       "        4.4009443e-03, -3.4503092e-03, -2.4255270e-03, -4.4732468e-04],\n",
       "      dtype=float32)"
      ]
     },
     "execution_count": 58,
     "metadata": {},
     "output_type": "execute_result"
    }
   ],
   "source": [
    "model['难吃']"
   ]
  },
  {
   "cell_type": "code",
   "execution_count": 59,
   "metadata": {},
   "outputs": [
    {
     "data": {
      "text/plain": [
       "[('地缝', 0.4177316725254059),\n",
       " ('清酱', 0.40707892179489136),\n",
       " ('一溜烟儿', 0.4059597849845886),\n",
       " ('空台', 0.3946380615234375),\n",
       " ('听听看', 0.3938753604888916),\n",
       " ('云尚', 0.38981521129608154),\n",
       " ('普遍现象', 0.3804473280906677),\n",
       " ('达新', 0.37946367263793945),\n",
       " ('布菜', 0.37557995319366455),\n",
       " ('为表', 0.3741552531719208)]"
      ]
     },
     "execution_count": 59,
     "metadata": {},
     "output_type": "execute_result"
    }
   ],
   "source": [
    "model.most_similar('难吃')"
   ]
  }
 ],
 "metadata": {
  "kernelspec": {
   "display_name": "Python 3",
   "language": "python",
   "name": "python3"
  },
  "language_info": {
   "codemirror_mode": {
    "name": "ipython",
    "version": 3
   },
   "file_extension": ".py",
   "mimetype": "text/x-python",
   "name": "python",
   "nbconvert_exporter": "python",
   "pygments_lexer": "ipython3",
   "version": "3.7.5"
  },
  "toc": {
   "base_numbering": 1,
   "nav_menu": {},
   "number_sections": true,
   "sideBar": true,
   "skip_h1_title": false,
   "title_cell": "Table of Contents",
   "title_sidebar": "Contents",
   "toc_cell": false,
   "toc_position": {},
   "toc_section_display": true,
   "toc_window_display": false
  }
 },
 "nbformat": 4,
 "nbformat_minor": 2
}
